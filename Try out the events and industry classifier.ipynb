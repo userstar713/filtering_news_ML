{
 "cells": [
  {
   "cell_type": "markdown",
   "metadata": {},
   "source": [
    "# Read the data"
   ]
  },
  {
   "cell_type": "code",
   "execution_count": null,
   "metadata": {
    "collapsed": true
   },
   "outputs": [],
   "source": [
    "import unicodecsv as csv\n",
    "from monkeylearn import MonkeyLearn\n",
    "ml = MonkeyLearn('<your API key here>')"
   ]
  },
  {
   "cell_type": "code",
   "execution_count": null,
   "metadata": {
    "collapsed": true
   },
   "outputs": [],
   "source": [
    "articles = [row for row in csv.reader(open(\"items_TechCrunch.csv\"))][-100:]"
   ]
  },
  {
   "cell_type": "markdown",
   "metadata": {},
   "source": [
    "# Classify:"
   ]
  },
  {
   "cell_type": "markdown",
   "metadata": {},
   "source": [
    "## Without using a pipeline\n",
    "\n",
    "We manually evaluate which articles are about startups and then only send those to the events and industry classifiers"
   ]
  },
  {
   "cell_type": "code",
   "execution_count": null,
   "metadata": {
    "collapsed": false
   },
   "outputs": [],
   "source": [
    "text_list = [\"\\n\".join([sample[1], sample[0], sample[3], sample[4]]) for sample in articles]\n",
    "\n",
    "# startup classifier\n",
    "module_id = 'cl_Xq6cFpsX'\n",
    "res = ml.classifiers.classify(module_id, text_list)\n",
    "\n",
    "for article, tag in zip(articles, res.result):\n",
    "    article.extend([tag[0][\"label\"], tag[0][\"probability\"]])\n",
    "\n",
    "# fill with empty spaces the ones that are filtered out\n",
    "for article in [article for article in articles if article[-2] == \"not_startup\"]:\n",
    "    article.extend([\"\",\"\",\"\"])\n",
    "\n",
    "# classify the startup articles with event and industries\n",
    "articles_startup = [article for article in articles if article[-2] == \"startup\"]\n",
    "text_list = [\"\\n\".join([sample[1], sample[0], sample[3], sample[4]]) for sample in articles_startup]\n",
    "\n",
    "res_events = ml.classifiers.classify('cl_iju4tFr6', text_list)\n",
    "res_industries = ml.classifiers.classify('cl_nt3NPYem', text_list)\n",
    "\n",
    "for article, event, industries in zip(articles_startup, res_events.result, res_industries.result):\n",
    "    # Join the list of industry labels under one semicolon separated line\n",
    "    industries = \";\".join([tag[0][\"label\"] for tag in industries])\n",
    "    article.extend([event[0][\"label\"], event[0][\"probability\"], industries])"
   ]
  },
  {
   "cell_type": "markdown",
   "metadata": {},
   "source": [
    "## Or, Using a pipeline\n",
    "\n",
    "We send everything only once, and the pipeline knows what to do. Because you're not sending your data multiple times, it's twice as fast!"
   ]
  },
  {
   "cell_type": "code",
   "execution_count": null,
   "metadata": {
    "collapsed": false
   },
   "outputs": [],
   "source": [
    "data = {\n",
    "  \"texts\": [{\"text\": \"\\n\".join([sample[1], sample[0], sample[3], sample[4]])} for sample in articles]\n",
    "}\n",
    "\n",
    "# Use the pipeline to classify. We only talk with MonkeyLearn once\n",
    "res = ml.pipelines.run('pi_5HDTFuxu', data)\n",
    "\n",
    "for article, tags in zip(articles, res.result[\"results\"]):\n",
    "    # First add to every article the startup tag\n",
    "    is_startup = tags[\"is_startup\"][0]\n",
    "    article.extend([is_startup[\"label\"], is_startup[\"probability\"]])\n",
    "    \n",
    "    if is_startup[\"label\"] == \"startup\":\n",
    "        event = tags[\"event\"]\n",
    "        # Join the list of industry labels under one semicolon separated line\n",
    "        industries = \";\".join([tag[0][\"label\"] for tag in tags[\"industry\"]])\n",
    "        article.extend([event[0][\"label\"], event[0][\"probability\"], industries])\n",
    "    else:\n",
    "        article.extend([\"\",\"\"])"
   ]
  },
  {
   "cell_type": "markdown",
   "metadata": {},
   "source": [
    "# Save those results back to a csv"
   ]
  },
  {
   "cell_type": "code",
   "execution_count": null,
   "metadata": {
    "collapsed": true
   },
   "outputs": [],
   "source": [
    "with open(\"classified_example.csv\", \"wb\") as csvfile:\n",
    "    writer = csv.writer(csvfile, dialect='excel')\n",
    "    writer.writerows(articles)"
   ]
  }
 ],
 "metadata": {
  "kernelspec": {
   "display_name": "Python 2",
   "language": "python",
   "name": "python2"
  },
  "language_info": {
   "codemirror_mode": {
    "name": "ipython",
    "version": 2
   },
   "file_extension": ".py",
   "mimetype": "text/x-python",
   "name": "python",
   "nbconvert_exporter": "python",
   "pygments_lexer": "ipython2",
   "version": "2.7.6"
  }
 },
 "nbformat": 4,
 "nbformat_minor": 0
}
